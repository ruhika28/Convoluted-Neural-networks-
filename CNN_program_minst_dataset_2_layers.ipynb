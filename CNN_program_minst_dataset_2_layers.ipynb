{
  "cells": [
    {
      "metadata": {
        "collapsed": true
      },
      "cell_type": "markdown",
      "source": "# Convolution Neural Networks on the MNIST dataset"
    },
    {
      "metadata": {
        "collapsed": true
      },
      "cell_type": "markdown",
      "source": "## Import the libraries"
    },
    {
      "metadata": {
        "trusted": true
      },
      "cell_type": "code",
      "source": "from keras.layers import Conv2D, MaxPooling2D, Flatten, Dense\nfrom keras.models  import  Sequential\nfrom keras.datasets  import  mnist \nfrom keras.utils import  to_categorical \nimport  matplotlib.pyplot as plt \n%matplotlib inline",
      "execution_count": 1,
      "outputs": [
        {
          "output_type": "stream",
          "text": "Using TensorFlow backend.\n",
          "name": "stderr"
        }
      ]
    },
    {
      "metadata": {
        "collapsed": true
      },
      "cell_type": "markdown",
      "source": "###loading the data "
    },
    {
      "metadata": {
        "trusted": true
      },
      "cell_type": "code",
      "source": "(X_train, y_train),(X_test,y_test)=mnist.load_data()",
      "execution_count": 2,
      "outputs": [
        {
          "output_type": "stream",
          "text": "Downloading data from https://s3.amazonaws.com/img-datasets/mnist.npz\n11493376/11490434 [==============================] - 2s 0us/step\n",
          "name": "stdout"
        }
      ]
    },
    {
      "metadata": {
        "trusted": true
      },
      "cell_type": "code",
      "source": "print(X_train.shape)\nprint(X_test.shape)\nprint(y_train.shape)\nprint(y_test.shape)\n",
      "execution_count": 3,
      "outputs": [
        {
          "output_type": "stream",
          "text": "(60000, 28, 28)\n(10000, 28, 28)\n(60000,)\n(10000,)\n",
          "name": "stdout"
        }
      ]
    },
    {
      "metadata": {
        "collapsed": true
      },
      "cell_type": "markdown",
      "source": "## Pre-processing\nOur MNIST images only have a depth of 1, but we must explicitly declare that"
    },
    {
      "metadata": {
        "trusted": true
      },
      "cell_type": "code",
      "source": "classes =10 \nepochs= 3\n\nX_train =X_train.reshape(60000,28,28,1)\nX_test = X_test.reshape(10000,28,28,1)\nX_train = X_train.astype('float32')\nX_test = X_test.astype('float32')\nX_train /=255.0\nX_test /= 255.0\ny_train = to_categorical(y_train,classes)\ny_test = to_categorical(y_test,classes)",
      "execution_count": 4,
      "outputs": []
    },
    {
      "metadata": {
        "trusted": true
      },
      "cell_type": "code",
      "source": "print(X_train.shape)\nprint(X_test.shape)\nprint(y_train.shape)\nprint(y_test.shape)",
      "execution_count": 5,
      "outputs": [
        {
          "output_type": "stream",
          "text": "(60000, 28, 28, 1)\n(10000, 28, 28, 1)\n(60000, 10)\n(10000, 10)\n",
          "name": "stdout"
        }
      ]
    },
    {
      "metadata": {
        "collapsed": true
      },
      "cell_type": "markdown",
      "source": "## Create, compile and train the model.\n![CNN model](images/cnn-model.jpg)"
    },
    {
      "metadata": {},
      "cell_type": "markdown",
      "source": "- The first parameter is the number of filters"
    },
    {
      "metadata": {
        "trusted": true
      },
      "cell_type": "code",
      "source": "cnn=Sequential()\ncnn.add(Conv2D(32,kernel_size=(5,5),input_shape=(28,28,1),padding='same',activation='relu'))\ncnn.add(MaxPooling2D())\ncnn.add(Conv2D(64, kernel_size=(5,5),padding='same', activation='relu'))\ncnn.add(MaxPooling2D())\ncnn.add(Flatten())#give ip to a fully  conected network\ncnn.add(Dense(1024,activation='relu'))\ncnn.add(Dense(10,activation='softmax'))\ncnn.compile(optimizer='adam',loss='categorical_crossentropy',metrics=['accuracy'])\nprint(cnn.summary())",
      "execution_count": 6,
      "outputs": [
        {
          "output_type": "stream",
          "text": "Model: \"sequential_1\"\n_________________________________________________________________\nLayer (type)                 Output Shape              Param #   \n=================================================================\nconv2d_1 (Conv2D)            (None, 28, 28, 32)        832       \n_________________________________________________________________\nmax_pooling2d_1 (MaxPooling2 (None, 14, 14, 32)        0         \n_________________________________________________________________\nconv2d_2 (Conv2D)            (None, 14, 14, 64)        51264     \n_________________________________________________________________\nmax_pooling2d_2 (MaxPooling2 (None, 7, 7, 64)          0         \n_________________________________________________________________\nflatten_1 (Flatten)          (None, 3136)              0         \n_________________________________________________________________\ndense_1 (Dense)              (None, 1024)              3212288   \n_________________________________________________________________\ndense_2 (Dense)              (None, 10)                10250     \n=================================================================\nTotal params: 3,274,634\nTrainable params: 3,274,634\nNon-trainable params: 0\n_________________________________________________________________\nNone\n",
          "name": "stdout"
        }
      ]
    },
    {
      "metadata": {
        "trusted": true
      },
      "cell_type": "code",
      "source": "history_cnn = cnn.fit(X_train,y_train,epochs=5,verbose=1,validation_data=(X_train,y_train))",
      "execution_count": 7,
      "outputs": [
        {
          "output_type": "stream",
          "text": "Train on 60000 samples, validate on 60000 samples\nEpoch 1/5\n60000/60000 [==============================] - 316s 5ms/step - loss: 0.0966 - accuracy: 0.9691 - val_loss: 0.0315 - val_accuracy: 0.9907\nEpoch 2/5\n60000/60000 [==============================] - 291s 5ms/step - loss: 0.0359 - accuracy: 0.9883 - val_loss: 0.0209 - val_accuracy: 0.9937\nEpoch 3/5\n60000/60000 [==============================] - 295s 5ms/step - loss: 0.0237 - accuracy: 0.9925 - val_loss: 0.0183 - val_accuracy: 0.9945\nEpoch 4/5\n60000/60000 [==============================] - 312s 5ms/step - loss: 0.0178 - accuracy: 0.9948 - val_loss: 0.0083 - val_accuracy: 0.9975\nEpoch 5/5\n60000/60000 [==============================] - 314s 5ms/step - loss: 0.0143 - accuracy: 0.9956 - val_loss: 0.0161 - val_accuracy: 0.9947\n",
          "name": "stdout"
        }
      ]
    },
    {
      "metadata": {
        "trusted": true
      },
      "cell_type": "code",
      "source": "plt.plot(history_cnn.history['accuracy'])\nplt.plot(history_cnn.history['val_accuracy'])",
      "execution_count": 13,
      "outputs": [
        {
          "output_type": "execute_result",
          "execution_count": 13,
          "data": {
            "text/plain": "[<matplotlib.lines.Line2D at 0x7f2445da1128>]"
          },
          "metadata": {}
        },
        {
          "output_type": "display_data",
          "data": {
            "image/png": "[encoded data removed]",
            "text/plain": "<Figure size 432x288 with 1 Axes>"
          },
          "metadata": {
            "needs_background": "light"
          }
        }
      ]
    },
    {
      "metadata": {
        "collapsed": true
      },
      "cell_type": "markdown",
      "source": "## The accuracy of the model"
    },
    {
      "metadata": {
        "trusted": true
      },
      "cell_type": "code",
      "source": "print(history_cnn.history['val_accuracy'])",
      "execution_count": 15,
      "outputs": [
        {
          "output_type": "stream",
          "text": "[0.9906666874885559, 0.9936666488647461, 0.9944999814033508, 0.9975333213806152, 0.9947166442871094]\n",
          "name": "stdout"
        }
      ]
    },
    {
      "metadata": {
        "trusted": true
      },
      "cell_type": "code",
      "source": "",
      "execution_count": null,
      "outputs": []
    }
  ],
  "metadata": {
    "anaconda-cloud": {},
    "kernelspec": {
      "name": "python36",
      "display_name": "Python 3.6",
      "language": "python"
    },
    "language_info": {
      "mimetype": "text/x-python",
      "nbconvert_exporter": "python",
      "name": "python",
      "pygments_lexer": "ipython3",
      "version": "3.6.6",
      "file_extension": ".py",
      "codemirror_mode": {
        "version": 3,
        "name": "ipython"
      }
    }
  },
  "nbformat": 4,
  "nbformat_minor": 2
}
